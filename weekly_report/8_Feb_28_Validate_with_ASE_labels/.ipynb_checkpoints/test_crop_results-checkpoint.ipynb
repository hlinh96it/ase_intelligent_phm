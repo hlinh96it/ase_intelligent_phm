{
 "cells": [
  {
   "cell_type": "code",
   "execution_count": 2,
   "id": "67fcfc95-932b-45a1-b971-4ee957a7aadb",
   "metadata": {
    "tags": []
   },
   "outputs": [],
   "source": [
    "import os\n",
    "import glob\n",
    "import numpy as np\n",
    "\n",
    "import pandas as pd\n",
    "from datetime import datetime\n",
    "import matplotlib.pyplot as plt\n",
    "\n",
    "plt.style.use('default')\n",
    "plt.rcParams['axes.grid'] = True\n",
    "plt.rcParams[\"figure.figsize\"] = (16, 3.5)\n",
    "plt.rcParams['figure.dpi'] = 150\n",
    "\n",
    "import warnings\n",
    "warnings.filterwarnings('ignore')"
   ]
  },
  {
   "cell_type": "code",
   "execution_count": 14,
   "id": "325d2765-d961-4cbc-96f1-6c737f755937",
   "metadata": {
    "tags": []
   },
   "outputs": [],
   "source": [
    "def read_program(data_folder, validate_folders, program_no, header, drop_cols):\n",
    "    program = os.listdir(os.path.join(data_folder, validate_folders, 'One_Die'))\n",
    "    program = [csv_file for csv_file in program if csv_file.endswith('.csv')]\n",
    "\n",
    "    df = []\n",
    "    for csv_file in program:\n",
    "        csv_path = os.path.join(data_folder, validate_folders[program_no], 'One_Die', csv_file)\n",
    "        df.append(pd.read_csv(csv_path, header=header).reset_index(drop=True).drop(drop_cols, axis=1))\n",
    "    \n",
    "    df = pd.concat(df, ignore_index=True)\n",
    "    return df"
   ]
  },
  {
   "cell_type": "code",
   "execution_count": 3,
   "id": "ea48c1c7-e9e6-4ca5-a94a-e691b4c9afbf",
   "metadata": {},
   "outputs": [],
   "source": [
    "labels = pd.read_excel('all_program_cropped.xlsx')\n",
    "labels_group = labels.groupby('program')"
   ]
  },
  {
   "cell_type": "code",
   "execution_count": 10,
   "id": "77b57fef-31ed-47b3-9280-596cf74b6e0f",
   "metadata": {
    "tags": []
   },
   "outputs": [],
   "source": [
    "program = ['1、UMT2345OST02', 'ENM0027FST', 'EPS1454BTK', 'RIC0060OTT', 'RLK3858AST']\n",
    "data_folder = '/Users/hlinh96it/Library/CloudStorage/OneDrive-NTHU/ASE_PHM_WireBonding/dataset/10_DAQ_20221227'"
   ]
  },
  {
   "cell_type": "code",
   "execution_count": 15,
   "id": "25672249-25fd-4f68-882f-19fd56187e2e",
   "metadata": {
    "tags": []
   },
   "outputs": [
    {
     "ename": "FileNotFoundError",
     "evalue": "[Errno 2] No such file or directory: '/Users/hlinh96it/Library/CloudStorage/OneDrive-NTHU/ASE_PHM_WireBonding/dataset/10_DAQ_20221227/UMT2345OST02/One_Die'",
     "output_type": "error",
     "traceback": [
      "\u001b[0;31m---------------------------------------------------------------------------\u001b[0m",
      "\u001b[0;31mFileNotFoundError\u001b[0m                         Traceback (most recent call last)",
      "Cell \u001b[0;32mIn[15], line 4\u001b[0m\n\u001b[1;32m      1\u001b[0m \u001b[38;5;66;03m# drop_cols = [0, 1, 2, 5]\u001b[39;00m\n\u001b[1;32m      2\u001b[0m drop_cols \u001b[38;5;241m=\u001b[39m [\u001b[38;5;124m'\u001b[39m\u001b[38;5;124mDate_Time\u001b[39m\u001b[38;5;124m'\u001b[39m, \u001b[38;5;124m'\u001b[39m\u001b[38;5;124mX\u001b[39m\u001b[38;5;124m'\u001b[39m, \u001b[38;5;124m'\u001b[39m\u001b[38;5;124mY\u001b[39m\u001b[38;5;124m'\u001b[39m, \u001b[38;5;124m'\u001b[39m\u001b[38;5;124mid\u001b[39m\u001b[38;5;124m'\u001b[39m]\n\u001b[0;32m----> 4\u001b[0m program_1 \u001b[38;5;241m=\u001b[39m \u001b[43mread_program\u001b[49m\u001b[43m(\u001b[49m\u001b[43mdata_folder\u001b[49m\u001b[43m,\u001b[49m\u001b[43m \u001b[49m\u001b[43mprogram\u001b[49m\u001b[43m[\u001b[49m\u001b[38;5;241;43m0\u001b[39;49m\u001b[43m]\u001b[49m\u001b[43m,\u001b[49m\u001b[43m \u001b[49m\u001b[43mprogram_no\u001b[49m\u001b[38;5;241;43m=\u001b[39;49m\u001b[38;5;241;43m1\u001b[39;49m\u001b[43m,\u001b[49m\u001b[43m \u001b[49m\u001b[43mheader\u001b[49m\u001b[38;5;241;43m=\u001b[39;49m\u001b[38;5;28;43;01mNone\u001b[39;49;00m\u001b[43m,\u001b[49m\u001b[43m \u001b[49m\u001b[43mdrop_cols\u001b[49m\u001b[38;5;241;43m=\u001b[39;49m\u001b[43mdrop_cols\u001b[49m\u001b[43m)\u001b[49m\n",
      "Cell \u001b[0;32mIn[14], line 2\u001b[0m, in \u001b[0;36mread_program\u001b[0;34m(data_folder, validate_folders, program_no, header, drop_cols)\u001b[0m\n\u001b[1;32m      1\u001b[0m \u001b[38;5;28;01mdef\u001b[39;00m \u001b[38;5;21mread_program\u001b[39m(data_folder, validate_folders, program_no, header, drop_cols):\n\u001b[0;32m----> 2\u001b[0m     program \u001b[38;5;241m=\u001b[39m \u001b[43mos\u001b[49m\u001b[38;5;241;43m.\u001b[39;49m\u001b[43mlistdir\u001b[49m\u001b[43m(\u001b[49m\u001b[43mos\u001b[49m\u001b[38;5;241;43m.\u001b[39;49m\u001b[43mpath\u001b[49m\u001b[38;5;241;43m.\u001b[39;49m\u001b[43mjoin\u001b[49m\u001b[43m(\u001b[49m\u001b[43mdata_folder\u001b[49m\u001b[43m,\u001b[49m\u001b[43m \u001b[49m\u001b[43mvalidate_folders\u001b[49m\u001b[43m,\u001b[49m\u001b[43m \u001b[49m\u001b[38;5;124;43m'\u001b[39;49m\u001b[38;5;124;43mOne_Die\u001b[39;49m\u001b[38;5;124;43m'\u001b[39;49m\u001b[43m)\u001b[49m\u001b[43m)\u001b[49m\n\u001b[1;32m      3\u001b[0m     program \u001b[38;5;241m=\u001b[39m [csv_file \u001b[38;5;28;01mfor\u001b[39;00m csv_file \u001b[38;5;129;01min\u001b[39;00m program \u001b[38;5;28;01mif\u001b[39;00m csv_file\u001b[38;5;241m.\u001b[39mendswith(\u001b[38;5;124m'\u001b[39m\u001b[38;5;124m.csv\u001b[39m\u001b[38;5;124m'\u001b[39m)]\n\u001b[1;32m      5\u001b[0m     df \u001b[38;5;241m=\u001b[39m []\n",
      "\u001b[0;31mFileNotFoundError\u001b[0m: [Errno 2] No such file or directory: '/Users/hlinh96it/Library/CloudStorage/OneDrive-NTHU/ASE_PHM_WireBonding/dataset/10_DAQ_20221227/UMT2345OST02/One_Die'"
     ]
    }
   ],
   "source": [
    "# drop_cols = [0, 1, 2, 5]\n",
    "drop_cols = ['Date_Time', 'X', 'Y', 'id']\n",
    "\n",
    "program_1 = read_program(data_folder, program[0], program_no=1, header=None, drop_cols=drop_cols)"
   ]
  },
  {
   "cell_type": "code",
   "execution_count": 13,
   "id": "4e428cd3-fcae-4684-9b27-8b97bf8c29da",
   "metadata": {
    "tags": []
   },
   "outputs": [
    {
     "data": {
      "text/plain": [
       "'UMT2345OST02'"
      ]
     },
     "execution_count": 13,
     "metadata": {},
     "output_type": "execute_result"
    }
   ],
   "source": [
    "program[0]"
   ]
  },
  {
   "cell_type": "code",
   "execution_count": null,
   "id": "6538dfba-145e-4e7e-9219-8db5e339b80b",
   "metadata": {},
   "outputs": [],
   "source": []
  }
 ],
 "metadata": {
  "kernelspec": {
   "display_name": "Python 3 (ipykernel)",
   "language": "python",
   "name": "python3"
  },
  "language_info": {
   "codemirror_mode": {
    "name": "ipython",
    "version": 3
   },
   "file_extension": ".py",
   "mimetype": "text/x-python",
   "name": "python",
   "nbconvert_exporter": "python",
   "pygments_lexer": "ipython3",
   "version": "3.8.0"
  }
 },
 "nbformat": 4,
 "nbformat_minor": 5
}
